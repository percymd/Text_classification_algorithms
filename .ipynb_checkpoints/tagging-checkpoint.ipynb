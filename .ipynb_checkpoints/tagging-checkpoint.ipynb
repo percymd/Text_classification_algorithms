{
 "cells": [
  {
   "cell_type": "markdown",
   "id": "2dc53d63",
   "metadata": {},
   "source": [
    "# Etiquetado en NLTK"
   ]
  },
  {
   "cell_type": "markdown",
   "id": "6b34f739",
   "metadata": {},
   "source": [
    "## Pipeline básico para Ingles"
   ]
  },
  {
   "cell_type": "code",
   "execution_count": 2,
   "id": "3b65003d",
   "metadata": {},
   "outputs": [
    {
     "name": "stderr",
     "output_type": "stream",
     "text": [
      "[nltk_data] Downloading package punkt to\n",
      "[nltk_data]     C:\\Users\\User\\AppData\\Roaming\\nltk_data...\n",
      "[nltk_data]   Package punkt is already up-to-date!\n",
      "[nltk_data] Downloading package averaged_perceptron_tagger to\n",
      "[nltk_data]     C:\\Users\\User\\AppData\\Roaming\\nltk_data...\n",
      "[nltk_data]   Package averaged_perceptron_tagger is already up-to-\n",
      "[nltk_data]       date!\n"
     ]
    }
   ],
   "source": [
    "import nltk\n",
    "nltk.download('punkt')\n",
    "nltk.download('averaged_perceptron_tagger')\n",
    "from nltk import word_tokenize"
   ]
  },
  {
   "cell_type": "markdown",
   "id": "2f91c0a5",
   "metadata": {},
   "source": [
    "#### Etiquetado en una linea"
   ]
  },
  {
   "cell_type": "code",
   "execution_count": 3,
   "id": "49834c66",
   "metadata": {},
   "outputs": [
    {
     "data": {
      "text/plain": [
       "[('And', 'CC'),\n",
       " ('now', 'RB'),\n",
       " ('here', 'RB'),\n",
       " ('I', 'PRP'),\n",
       " ('am', 'VBP'),\n",
       " ('enjoying', 'VBG'),\n",
       " ('today', 'NN')]"
      ]
     },
     "execution_count": 3,
     "metadata": {},
     "output_type": "execute_result"
    }
   ],
   "source": [
    "text = word_tokenize('And now here I am enjoying today')\n",
    "nltk.pos_tag(text)"
   ]
  },
  {
   "cell_type": "markdown",
   "id": "424ed096",
   "metadata": {},
   "source": [
    "#### Categoria gramatical de cada etiqueta"
   ]
  },
  {
   "cell_type": "code",
   "execution_count": 5,
   "id": "e0f2140f",
   "metadata": {},
   "outputs": [
    {
     "name": "stdout",
     "output_type": "stream",
     "text": [
      "CC: conjunction, coordinating\n",
      "    & 'n and both but either et for less minus neither nor or plus so\n",
      "    therefore times v. versus vs. whether yet\n",
      "None\n",
      "RB: adverb\n",
      "    occasionally unabatingly maddeningly adventurously professedly\n",
      "    stirringly prominently technologically magisterially predominately\n",
      "    swiftly fiscally pitilessly ...\n",
      "None\n",
      "PRP: pronoun, personal\n",
      "    hers herself him himself hisself it itself me myself one oneself ours\n",
      "    ourselves ownself self she thee theirs them themselves they thou thy us\n",
      "None\n"
     ]
    },
    {
     "name": "stderr",
     "output_type": "stream",
     "text": [
      "[nltk_data] Downloading package tagsets to\n",
      "[nltk_data]     C:\\Users\\User\\AppData\\Roaming\\nltk_data...\n",
      "[nltk_data]   Package tagsets is already up-to-date!\n"
     ]
    }
   ],
   "source": [
    "nltk.download('tagsets')\n",
    "for tag in ['CC', 'RB', 'PRP']:\n",
    "    print(nltk.help.upenn_tagset(tag)) #upenn: corpus estandar para el idioma ingles"
   ]
  },
  {
   "cell_type": "markdown",
   "id": "fa9c8a58",
   "metadata": {},
   "source": [
    "#### Palabras homonimas"
   ]
  },
  {
   "cell_type": "code",
   "execution_count": 7,
   "id": "4215c0e0",
   "metadata": {},
   "outputs": [
    {
     "data": {
      "text/plain": [
       "[('They', 'PRP'),\n",
       " ('do', 'VBP'),\n",
       " ('not', 'RB'),\n",
       " ('permit', 'VB'),\n",
       " ('other', 'JJ'),\n",
       " ('people', 'NNS'),\n",
       " ('to', 'TO'),\n",
       " ('get', 'VB'),\n",
       " ('residence', 'NN'),\n",
       " ('permit', 'NN')]"
      ]
     },
     "execution_count": 7,
     "metadata": {},
     "output_type": "execute_result"
    }
   ],
   "source": [
    "text = word_tokenize('They do not permit other people to get residence permit')\n",
    "nltk.pos_tag(text)"
   ]
  },
  {
   "cell_type": "markdown",
   "id": "edeeb740",
   "metadata": {},
   "source": [
    "## Etiquetado en Español"
   ]
  },
  {
   "cell_type": "code",
   "execution_count": 8,
   "id": "7811a163",
   "metadata": {},
   "outputs": [
    {
     "name": "stderr",
     "output_type": "stream",
     "text": [
      "[nltk_data] Downloading package cess_esp to\n",
      "[nltk_data]     C:\\Users\\User\\AppData\\Roaming\\nltk_data...\n",
      "[nltk_data]   Package cess_esp is already up-to-date!\n"
     ]
    }
   ],
   "source": [
    "#NLTK no tiene algoritmos pre entrenados para el idioma Español\n",
    "#Usamos el corpus cess_esp\n",
    "\n",
    "nltk.download('cess_esp')\n",
    "from nltk.corpus import cess_esp as cess\n",
    "from nltk import UnigramTagger as ut\n",
    "from nltk import BigramTagger as bt"
   ]
  },
  {
   "cell_type": "markdown",
   "id": "8d3b3f37",
   "metadata": {},
   "source": [
    "#### Entrenamiento del tagger por unigramas"
   ]
  },
  {
   "cell_type": "code",
   "execution_count": 13,
   "id": "3172c361",
   "metadata": {},
   "outputs": [
    {
     "data": {
      "text/plain": [
       "0.8068832283915284"
      ]
     },
     "execution_count": 13,
     "metadata": {},
     "output_type": "execute_result"
    }
   ],
   "source": [
    "cess_sents = cess.tagged_sents()\n",
    "fraction = int(len(cess_sents)*90/100)\n",
    "uni_tagger = ut(cess_sents[:fraction])\n",
    "uni_tagger.evaluate(cess_sents[fraction:])"
   ]
  },
  {
   "cell_type": "code",
   "execution_count": 14,
   "id": "4e9cd1bb",
   "metadata": {},
   "outputs": [
    {
     "data": {
      "text/plain": [
       "[('Yo', 'pp1csn00'),\n",
       " ('soy', 'vsip1s0'),\n",
       " ('una', 'di0fs0'),\n",
       " ('persona', 'ncfs000'),\n",
       " ('muy', 'rg'),\n",
       " ('amable', None)]"
      ]
     },
     "execution_count": 14,
     "metadata": {},
     "output_type": "execute_result"
    }
   ],
   "source": [
    "uni_tagger.tag('Yo soy una persona muy amable'.split(\" \"))"
   ]
  },
  {
   "cell_type": "markdown",
   "id": "73a2989d",
   "metadata": {},
   "source": [
    "#### Entrenaminto del tagger por bigramas"
   ]
  },
  {
   "cell_type": "code",
   "execution_count": 15,
   "id": "2e22e4b7",
   "metadata": {},
   "outputs": [
    {
     "data": {
      "text/plain": [
       "0.1095272206303725"
      ]
     },
     "execution_count": 15,
     "metadata": {},
     "output_type": "execute_result"
    }
   ],
   "source": [
    "fraction = int(len(cess_sents)*90/100)\n",
    "bi_tagger = bt(cess_sents[:fraction])\n",
    "bi_tagger.evaluate(cess_sents[fraction+1:])"
   ]
  },
  {
   "cell_type": "code",
   "execution_count": 16,
   "id": "9d719bce",
   "metadata": {},
   "outputs": [
    {
     "data": {
      "text/plain": [
       "[('Yo', 'pp1csn00'),\n",
       " ('soy', 'vsip1s0'),\n",
       " ('una', None),\n",
       " ('persona', None),\n",
       " ('muy', None),\n",
       " ('amable', None)]"
      ]
     },
     "execution_count": 16,
     "metadata": {},
     "output_type": "execute_result"
    }
   ],
   "source": [
    "bi_tagger.tag('Yo soy una persona muy amable'.split(\" \"))"
   ]
  },
  {
   "cell_type": "markdown",
   "id": "7da235b0",
   "metadata": {},
   "source": [
    "## Etiquetado mejorado con Stanza (StanfordNLP)"
   ]
  },
  {
   "cell_type": "code",
   "execution_count": null,
   "id": "28d1499e",
   "metadata": {},
   "outputs": [],
   "source": []
  }
 ],
 "metadata": {
  "kernelspec": {
   "display_name": "Python 3 (ipykernel)",
   "language": "python",
   "name": "python3"
  },
  "language_info": {
   "codemirror_mode": {
    "name": "ipython",
    "version": 3
   },
   "file_extension": ".py",
   "mimetype": "text/x-python",
   "name": "python",
   "nbconvert_exporter": "python",
   "pygments_lexer": "ipython3",
   "version": "3.8.6rc1"
  }
 },
 "nbformat": 4,
 "nbformat_minor": 5
}
